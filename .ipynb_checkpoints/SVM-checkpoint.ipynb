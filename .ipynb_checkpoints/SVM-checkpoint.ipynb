{
 "cells": [
  {
   "cell_type": "code",
   "execution_count": 1,
   "metadata": {
    "collapsed": false
   },
   "outputs": [
    {
     "name": "stderr",
     "output_type": "stream",
     "text": [
      "/Users/mahmoodhegazy/anaconda2/lib/python2.7/site-packages/sklearn/cross_validation.py:44: DeprecationWarning: This module was deprecated in version 0.18 in favor of the model_selection module into which all the refactored classes and functions are moved. Also note that the interface of the new CV iterators are different from that of this module. This module will be removed in 0.20.\n",
      "  \"This module will be removed in 0.20.\", DeprecationWarning)\n"
     ]
    }
   ],
   "source": [
    "import sklearn\n",
    "import numpy as np \n",
    "import pandas as pd \n",
    "import matplotlib.pyplot as plt\n",
    "from math import isnan\n",
    "from sklearn.feature_extraction.text import CountVectorizer\n",
    "from sklearn.feature_extraction.text import TfidfTransformer\n",
    "from sklearn.naive_bayes import MultinomialNB\n",
    "from sklearn.pipeline import Pipeline\n",
    "from sklearn.linear_model import SGDClassifier\n",
    "from sklearn.cross_validation import cross_val_score\n",
    "from sklearn import svm"
   ]
  },
  {
   "cell_type": "code",
   "execution_count": 17,
   "metadata": {
    "collapsed": true
   },
   "outputs": [],
   "source": [
    "training_set = pd.read_csv(\"train_input.csv\")"
   ]
  },
  {
   "cell_type": "code",
   "execution_count": 18,
   "metadata": {
    "collapsed": false
   },
   "outputs": [],
   "source": [
    "training_set_array = np.array(training_set) #convert it to numpy array for manipulation"
   ]
  },
  {
   "cell_type": "code",
   "execution_count": 19,
   "metadata": {
    "collapsed": false
   },
   "outputs": [
    {
     "data": {
      "text/plain": [
       "array([[0,\n",
       "        \"<speaker_1> seaworld ceo steps down amid tanking revenues - company announces undisclosed number of layoffs after volley of public criticism for its treatment of killer whales , underscored in <number> documentary blackfish outsideonline . com </s> <speaker_2> nothing like a little propaganda coupled with a good media campaign to sway public perception . pathetic . </s> <speaker_3> are you saying that the status quo should be upheld , and that maybe , just maybe , seaworld shouldn 't make at least a couple of changes regarding the well - being of their animals and safety of the trainers ? ? </s> </d>\\n\"],\n",
       "       [1,\n",
       "        '<speaker_1> strickland chargers owner dean spanos and goldman - sachs agree to build la stadium insidestl . com </s> <speaker_2> utkevinacee twitter . com @chasingsunsets7 @utkevinacee any truth to the spanos goldman sachs deal to a build stadium in la ? no . </s> <speaker_3> right . when i look for facts i definitely look to acee s </s> </d>\\n'],\n",
       "       [2,\n",
       "        \"<speaker_1> iniesta plays keepy uppy with one leg man . youtube . com </s> <speaker_2> with the walking sticks it 's more like <number> legs . almost an advantage . wasted click . </s> <speaker_3> let 's chop one of your legs off and find out . </s> </d>\\n\"],\n",
       "       ..., \n",
       "       [164997,\n",
       "        \"<speaker_1> kyrie irving and kevin love had a real good time at the club in brazil deadspin . com </s> <speaker_2> i bet lebron is training . </s> <speaker_3> i 'm <number> % sure the dude in the <number> th video is lebron . it 's definitely not kyrie , the shirts are different . he sounds like lebron and the beard is the same . edit make that <number> , <number> % sure . </s> <speaker_4> no that 's actually pharell williams </s> <speaker_5> pretty sure that was bill cosby </s> <speaker_6> dude it 's chris rock ya 'll are blind </s> </d>\\n\"],\n",
       "       [164998,\n",
       "        '<speaker_1> miroslav klose has the broken the world cup record <number> goals in the world cup </s> <speaker_2> muller might break it in the second half at this rate </s> <speaker_3> how many does he have as of half time today </s> <speaker_4> mller has <number> as of now , with at least <number> possible world cups to go . </s> <speaker_5> i just saw that mller has <number> now . edit wrong mller . sorry . </s> <speaker_6> that was probably gerd mller . </s> <speaker_7> one is short and chubby , the other is long and narrow . </s> </d>\\n'],\n",
       "       [164999,\n",
       "        '<speaker_1> attorney charged with having sex with <number> - year - old human trafficking victim in his office | fox news foxnews . com </s> <speaker_2> that lawyer should \\'ve known , \" <number> will get you <number> . \" </s> <speaker_3> and apparently , \" <number> will get you herpes \" </s> </d>\\n']], dtype=object)"
      ]
     },
     "execution_count": 19,
     "metadata": {},
     "output_type": "execute_result"
    }
   ],
   "source": [
    "training_set_array"
   ]
  },
  {
   "cell_type": "code",
   "execution_count": 20,
   "metadata": {
    "collapsed": true
   },
   "outputs": [],
   "source": [
    "training_set_array = np.delete(training_set_array, [0], 1)  # remove headers\n"
   ]
  },
  {
   "cell_type": "code",
   "execution_count": 21,
   "metadata": {
    "collapsed": false
   },
   "outputs": [
    {
     "data": {
      "text/plain": [
       "array([[ \"<speaker_1> seaworld ceo steps down amid tanking revenues - company announces undisclosed number of layoffs after volley of public criticism for its treatment of killer whales , underscored in <number> documentary blackfish outsideonline . com </s> <speaker_2> nothing like a little propaganda coupled with a good media campaign to sway public perception . pathetic . </s> <speaker_3> are you saying that the status quo should be upheld , and that maybe , just maybe , seaworld shouldn 't make at least a couple of changes regarding the well - being of their animals and safety of the trainers ? ? </s> </d>\\n\"],\n",
       "       [ '<speaker_1> strickland chargers owner dean spanos and goldman - sachs agree to build la stadium insidestl . com </s> <speaker_2> utkevinacee twitter . com @chasingsunsets7 @utkevinacee any truth to the spanos goldman sachs deal to a build stadium in la ? no . </s> <speaker_3> right . when i look for facts i definitely look to acee s </s> </d>\\n'],\n",
       "       [ \"<speaker_1> iniesta plays keepy uppy with one leg man . youtube . com </s> <speaker_2> with the walking sticks it 's more like <number> legs . almost an advantage . wasted click . </s> <speaker_3> let 's chop one of your legs off and find out . </s> </d>\\n\"],\n",
       "       ..., \n",
       "       [ \"<speaker_1> kyrie irving and kevin love had a real good time at the club in brazil deadspin . com </s> <speaker_2> i bet lebron is training . </s> <speaker_3> i 'm <number> % sure the dude in the <number> th video is lebron . it 's definitely not kyrie , the shirts are different . he sounds like lebron and the beard is the same . edit make that <number> , <number> % sure . </s> <speaker_4> no that 's actually pharell williams </s> <speaker_5> pretty sure that was bill cosby </s> <speaker_6> dude it 's chris rock ya 'll are blind </s> </d>\\n\"],\n",
       "       [ '<speaker_1> miroslav klose has the broken the world cup record <number> goals in the world cup </s> <speaker_2> muller might break it in the second half at this rate </s> <speaker_3> how many does he have as of half time today </s> <speaker_4> mller has <number> as of now , with at least <number> possible world cups to go . </s> <speaker_5> i just saw that mller has <number> now . edit wrong mller . sorry . </s> <speaker_6> that was probably gerd mller . </s> <speaker_7> one is short and chubby , the other is long and narrow . </s> </d>\\n'],\n",
       "       [ '<speaker_1> attorney charged with having sex with <number> - year - old human trafficking victim in his office | fox news foxnews . com </s> <speaker_2> that lawyer should \\'ve known , \" <number> will get you <number> . \" </s> <speaker_3> and apparently , \" <number> will get you herpes \" </s> </d>\\n']], dtype=object)"
      ]
     },
     "execution_count": 21,
     "metadata": {},
     "output_type": "execute_result"
    }
   ],
   "source": [
    "training_set_array"
   ]
  },
  {
   "cell_type": "code",
   "execution_count": 22,
   "metadata": {
    "collapsed": false
   },
   "outputs": [],
   "source": [
    "out_set = pd.read_csv('train_output.csv')"
   ]
  },
  {
   "cell_type": "code",
   "execution_count": 23,
   "metadata": {
    "collapsed": false
   },
   "outputs": [],
   "source": [
    "out_set_array = np.array(out_set)"
   ]
  },
  {
   "cell_type": "code",
   "execution_count": 24,
   "metadata": {
    "collapsed": true
   },
   "outputs": [],
   "source": [
    "out_set_array = np.delete(out_set_array, [0], 1)"
   ]
  },
  {
   "cell_type": "code",
   "execution_count": 25,
   "metadata": {
    "collapsed": true
   },
   "outputs": [],
   "source": [
    "#create a scikit countvectorizer, this will do stemming and remove stop words as well as term frequency\n",
    "count_vect = CountVectorizer(min_df = 2, lowercase = True, stop_words = 'english', strip_accents = 'unicode') "
   ]
  },
  {
   "cell_type": "code",
   "execution_count": 26,
   "metadata": {
    "collapsed": true
   },
   "outputs": [],
   "source": [
    "training_set_array = training_set_array.ravel()"
   ]
  },
  {
   "cell_type": "code",
   "execution_count": 27,
   "metadata": {
    "collapsed": false
   },
   "outputs": [
    {
     "data": {
      "text/plain": [
       "array([ \"<speaker_1> seaworld ceo steps down amid tanking revenues - company announces undisclosed number of layoffs after volley of public criticism for its treatment of killer whales , underscored in <number> documentary blackfish outsideonline . com </s> <speaker_2> nothing like a little propaganda coupled with a good media campaign to sway public perception . pathetic . </s> <speaker_3> are you saying that the status quo should be upheld , and that maybe , just maybe , seaworld shouldn 't make at least a couple of changes regarding the well - being of their animals and safety of the trainers ? ? </s> </d>\\n\",\n",
       "       '<speaker_1> strickland chargers owner dean spanos and goldman - sachs agree to build la stadium insidestl . com </s> <speaker_2> utkevinacee twitter . com @chasingsunsets7 @utkevinacee any truth to the spanos goldman sachs deal to a build stadium in la ? no . </s> <speaker_3> right . when i look for facts i definitely look to acee s </s> </d>\\n',\n",
       "       \"<speaker_1> iniesta plays keepy uppy with one leg man . youtube . com </s> <speaker_2> with the walking sticks it 's more like <number> legs . almost an advantage . wasted click . </s> <speaker_3> let 's chop one of your legs off and find out . </s> </d>\\n\",\n",
       "       ...,\n",
       "       \"<speaker_1> kyrie irving and kevin love had a real good time at the club in brazil deadspin . com </s> <speaker_2> i bet lebron is training . </s> <speaker_3> i 'm <number> % sure the dude in the <number> th video is lebron . it 's definitely not kyrie , the shirts are different . he sounds like lebron and the beard is the same . edit make that <number> , <number> % sure . </s> <speaker_4> no that 's actually pharell williams </s> <speaker_5> pretty sure that was bill cosby </s> <speaker_6> dude it 's chris rock ya 'll are blind </s> </d>\\n\",\n",
       "       '<speaker_1> miroslav klose has the broken the world cup record <number> goals in the world cup </s> <speaker_2> muller might break it in the second half at this rate </s> <speaker_3> how many does he have as of half time today </s> <speaker_4> mller has <number> as of now , with at least <number> possible world cups to go . </s> <speaker_5> i just saw that mller has <number> now . edit wrong mller . sorry . </s> <speaker_6> that was probably gerd mller . </s> <speaker_7> one is short and chubby , the other is long and narrow . </s> </d>\\n',\n",
       "       '<speaker_1> attorney charged with having sex with <number> - year - old human trafficking victim in his office | fox news foxnews . com </s> <speaker_2> that lawyer should \\'ve known , \" <number> will get you <number> . \" </s> <speaker_3> and apparently , \" <number> will get you herpes \" </s> </d>\\n'], dtype=object)"
      ]
     },
     "execution_count": 27,
     "metadata": {},
     "output_type": "execute_result"
    }
   ],
   "source": [
    "training_set_array"
   ]
  },
  {
   "cell_type": "code",
   "execution_count": 28,
   "metadata": {
    "collapsed": true
   },
   "outputs": [],
   "source": [
    "inputWordCounter = count_vect.fit_transform(training_set_array) # feed the data to the vectorizor"
   ]
  },
  {
   "cell_type": "code",
   "execution_count": null,
   "metadata": {
    "collapsed": true
   },
   "outputs": [],
   "source": []
  }
 ],
 "metadata": {
  "anaconda-cloud": {},
  "kernelspec": {
   "display_name": "Python [conda root]",
   "language": "python",
   "name": "conda-root-py"
  },
  "language_info": {
   "codemirror_mode": {
    "name": "ipython",
    "version": 2
   },
   "file_extension": ".py",
   "mimetype": "text/x-python",
   "name": "python",
   "nbconvert_exporter": "python",
   "pygments_lexer": "ipython2",
   "version": "2.7.12"
  }
 },
 "nbformat": 4,
 "nbformat_minor": 1
}
